{
 "cells": [
  {
   "cell_type": "code",
   "execution_count": 1,
   "id": "e31cfd76-a19f-430e-99c3-fa5b6e063b20",
   "metadata": {},
   "outputs": [],
   "source": [
    "from EpubProcessor import EPUBProcessor\n",
    "from EpubSummarizer import EPUBSummarizer"
   ]
  },
  {
   "cell_type": "code",
   "execution_count": 2,
   "id": "73c7e544-d7d2-46f4-999f-6415769ffc43",
   "metadata": {},
   "outputs": [
    {
     "name": "stderr",
     "output_type": "stream",
     "text": [
      "/cfs/home/u024236/Documents/EpubParser/env_pub/lib64/python3.11/site-packages/ebooklib/epub.py:1395: UserWarning: In the future version we will turn default option ignore_ncx to True.\n",
      "  warnings.warn('In the future version we will turn default option ignore_ncx to True.')\n",
      "/cfs/home/u024236/Documents/EpubParser/env_pub/lib64/python3.11/site-packages/ebooklib/epub.py:1423: FutureWarning: This search incorrectly ignores the root element, and will be fixed in a future version.  If you rely on the current behaviour, change it to './/xmlns:rootfile[@media-type]'\n",
      "  for root_file in tree.findall('//xmlns:rootfile[@media-type]', namespaces={'xmlns': NAMESPACES['CONTAINERNS']}):\n"
     ]
    },
    {
     "name": "stdout",
     "output_type": "stream",
     "text": [
      "('paragraph', 'The Opium of the Intellectuals')\n",
      "('title', 'FOREWORD TO THE TRANSACTION EDITION')\n",
      "('title', 'INTRODUCTION TO THE TRANSACTION EDITION')\n",
      "('title', 'FOREWORD')\n",
      "('title', 'PART ONE')\n",
      "('title', 'CHAPTER I')\n",
      "('title', 'CHAPTER II')\n",
      "('title', 'CHAPTER III')\n",
      "('title', 'CONCERNING POLITICAL OPTIMISM')\n",
      "('title', 'PART II')\n",
      "('title', 'CHAPTER IV')\n",
      "('title', 'CHAPTER V')\n",
      "('title', 'CHAPTER VI')\n",
      "('title', 'THE CONTROL OF HISTORY')\n",
      "('title', 'PART THREE')\n",
      "('title', 'CHAPTER VII')\n",
      "('title', 'CHAPTER VIII')\n",
      "('title', 'CHAPTER IX')\n",
      "('title', 'THE DESTINY OF THE INTELLECTUALS')\n",
      "('title', 'CONCLUSION')\n",
      "('title', 'APPENDIX')\n",
      "('title', 'INDEX')\n"
     ]
    }
   ],
   "source": [
    "def set_section_types_by_classes_and_clean_text(self):\n",
    "    for cI, c in enumerate(self.parsed_chapters):\n",
    "        for sI, s in enumerate(c):\n",
    "            classes_tags = s[2]\n",
    "            if 'gtxt_heading' in classes_tags or 'gtxt_h1_heading' in classes_tags:\n",
    "                typ = 'title'\n",
    "                text = self.parsed_chapters[cI][sI][1].get_text()\n",
    "\n",
    "                self.parsed_chapters[cI][sI] = (typ, text)\n",
    "                \n",
    "            elif 'gtxt_footnote' in s[2]:\n",
    "                typ = 'footnote'\n",
    "                text = self.parsed_chapters[cI][sI][1].get_text()\n",
    "\n",
    "                self.parsed_chapters[cI][sI] = (typ, text)\n",
    "\n",
    "            elif 'gtxt_quote' in s[2]:\n",
    "                typ = s[0]\n",
    "                text = \"\\n<quote>\\n\" + self.parsed_chapters[cI][sI][1].get_text() + \"\\n<quote>\\n\"\n",
    "\n",
    "                self.parsed_chapters[cI][sI] = (typ, text)\n",
    "\n",
    "            elif 'gtxt_list_entry' in s[2]:\n",
    "                typ = s[0]\n",
    "                text = \"\\t\" + self.parsed_chapters[cI][sI][1].get_text()\n",
    "\n",
    "                self.parsed_chapters[cI][sI] = (typ, text)\n",
    "            else:\n",
    "                self.parsed_chapters[cI][sI] = (s[0], s[1].get_text())\n",
    "\n",
    "\n",
    "processor = EPUBProcessor(\"aron.epub\")\n",
    "processor.A_load_epub()\n",
    "p = processor.B_parse_chapters()\n",
    "\n",
    "from types import MethodType\n",
    "processor.C_function__set_section_types_by_classes_and_clean_text = MethodType(set_section_types_by_classes_and_clean_text, processor)\n",
    "\n",
    "processor.D_set_section_types_by_classes_and_clean_text()\n",
    "\n",
    "for c in processor.parsed_chapters:\n",
    "    print(c[0])\n",
    "\n",
    "organized_book = processor.E_organize_book()"
   ]
  },
  {
   "cell_type": "code",
   "execution_count": null,
   "id": "63a5b8d8-594c-487b-abc8-3aee7a23dd84",
   "metadata": {},
   "outputs": [
    {
     "name": "stdout",
     "output_type": "stream",
     "text": [
      "Skipping: ['', 'INDEX', 'PART ONE', 'PART II', 'PART THREE']\n",
      "\n",
      "FOREWORD TO THE TRANSACTION EDITION\n",
      "INTRODUCTION TO THE TRANSACTION EDITION\n",
      "\t10/12\n",
      "FOREWORD\n",
      "\t10/26\n",
      "\t20/26\n",
      "CHAPTER I\n",
      "\t10/94\n",
      "\t20/94\n",
      "\t30/94\n",
      "\t40/94\n",
      "\t50/94\n",
      "\t60/94\n",
      "\t70/94\n",
      "\t80/94\n",
      "\t90/94\n",
      "CHAPTER II\n",
      "\t10/100\n",
      "\t20/100\n",
      "\t30/100\n",
      "\t40/100\n",
      "\t50/100\n",
      "\t60/100\n",
      "\t70/100\n",
      "\t80/100\n",
      "\t90/100\n",
      "\t100/100\n",
      "CHAPTER III\n",
      "\t10/97\n",
      "\t20/97\n",
      "\t30/97\n",
      "\t40/97\n",
      "\t50/97\n"
     ]
    }
   ],
   "source": [
    "summarizer = EPUBSummarizer(\"Opium of Intellectuals\", organized_book)\n",
    "\n",
    "SYSTEM_INSTRUCTION = \"You are a helpful assistant that summarizes paragraphs from books. Return markdown formatting without any tags around it nor mentions of the title of the section.\"\n",
    "def function_summarize_section(text):\n",
    "    return [\n",
    "        {\"role\": \"system\", \"content\": SYSTEM_INSTRUCTION },\n",
    "        {\"role\": \"user\", \"content\": f\"Summarize the following text: {text}\"}\n",
    "    ]\n",
    "\n",
    "keys_to_skip = ['', 'INDEX', 'PART ONE', 'PART II', 'PART THREE']\n",
    "summarizer.A_summarize_sections_for_chapters(function_summarize_section, keys_to_skip)"
   ]
  },
  {
   "cell_type": "code",
   "execution_count": null,
   "id": "105fead9-0a03-4bbc-891e-06da2dc99b37",
   "metadata": {},
   "outputs": [],
   "source": [
    "summarizer.B_summarize_chapter_from_sections_summaries()"
   ]
  },
  {
   "cell_type": "code",
   "execution_count": null,
   "id": "e28d7291-e339-482c-9eee-fcfb042bef09",
   "metadata": {},
   "outputs": [],
   "source": [
    "summarizer.C_summarize_book_from_chapters()"
   ]
  },
  {
   "cell_type": "code",
   "execution_count": null,
   "id": "84dec09c-741a-4d7d-b261-7e8939278a5c",
   "metadata": {},
   "outputs": [],
   "source": [
    "summarizer.D_summarize_chapter_from_sections_summaries_and_book_summary()"
   ]
  },
  {
   "cell_type": "code",
   "execution_count": null,
   "id": "b74df450-fc4b-4b45-8e3e-a15041b69e4e",
   "metadata": {},
   "outputs": [],
   "source": [
    "summarizer.E_summarize_sections_with_book_and_chapter_summaries()"
   ]
  },
  {
   "cell_type": "code",
   "execution_count": null,
   "id": "398a0487-1138-4e3f-958f-576148629e4e",
   "metadata": {},
   "outputs": [],
   "source": [
    "summarizer.based_organized_book['PART ONE']"
   ]
  },
  {
   "cell_type": "code",
   "execution_count": null,
   "id": "5b96a27a-2c8e-4b54-bced-c257e58a24fc",
   "metadata": {},
   "outputs": [],
   "source": [
    "from HTMLGenerator import *\n",
    "\n",
    "part_summaries = {\n",
    "    'PART I': ['CHAPTER I', 'CHAPTER II', 'CHAPTER III, 'CONCERNING POLITICAL OPTIMISM'],\n",
    "    'PART II': [ 'CHAPTER IV', 'CHAPTER V', 'CHAPTER VI', 'THE CONTROL OF HISTORY'],\n",
    "    'PART III': ['CHAPTER VII', 'CHAPTER VIII', 'CHAPTER IX', 'THE DESTINY OF THE INTELLECTUALS'],\n",
    "}\n",
    "\n",
    "html = generate_html(summarizer.book_title, summarizer.C_book_summary, summarizer.E_summarized_sections_with_book_and_chapter_context, part_summaries)\n",
    "save_html(html, 'aron_opium.html')"
   ]
  }
 ],
 "metadata": {
  "kernelspec": {
   "display_name": "env_pub",
   "language": "python",
   "name": "env_pub"
  },
  "language_info": {
   "codemirror_mode": {
    "name": "ipython",
    "version": 3
   },
   "file_extension": ".py",
   "mimetype": "text/x-python",
   "name": "python",
   "nbconvert_exporter": "python",
   "pygments_lexer": "ipython3",
   "version": "3.11.9"
  }
 },
 "nbformat": 4,
 "nbformat_minor": 5
}
